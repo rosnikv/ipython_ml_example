{
 "cells": [
  {
   "cell_type": "code",
   "execution_count": 23,
   "metadata": {
    "collapsed": true,
    "slideshow": {
     "slide_type": "slide"
    }
   },
   "outputs": [],
   "source": [
    "from math import sqrt\n",
    "\n",
    "# calculate root mean square error\n",
    "\n",
    "def rmse_metric(actual,predicted):\n",
    "    sum_err=0.0\n",
    "    for i in range(len(actual)):\n",
    "        prediction_error=predicted[i]-actual[i]\n",
    "        sum_err+=(prediction_error**2)\n",
    "    mean_error=sum_err/float(len(actual))\n",
    "    return sqrt(mean_error)\n",
    "    "
   ]
  },
  {
   "cell_type": "code",
   "execution_count": 24,
   "metadata": {
    "collapsed": true,
    "slideshow": {
     "slide_type": "subslide"
    }
   },
   "outputs": [],
   "source": [
    "# evaluate algorithm on training dataset\n",
    "def evaluate_algorithm(dataset,algorithm):\n",
    "    test_set=list()\n",
    "    for row in dataset:\n",
    "        row_copy=list(row)\n",
    "        row_copy[-1]=None\n",
    "        test_set.append(row_copy)\n",
    "    predicted=algorithm(dataset,test_set)\n",
    "    print predicted\n",
    "    \n",
    "    actual=[row[-1] for row in dataset]\n",
    "    rmse=rmse_metric(actual,predicted)\n",
    "    \n",
    "    return rmse"
   ]
  },
  {
   "cell_type": "code",
   "execution_count": 25,
   "metadata": {
    "collapsed": true,
    "slideshow": {
     "slide_type": "subslide"
    }
   },
   "outputs": [],
   "source": [
    "def mean(values):\n",
    "    return sum(values)/float(len(values))"
   ]
  },
  {
   "cell_type": "code",
   "execution_count": 26,
   "metadata": {
    "collapsed": true,
    "slideshow": {
     "slide_type": "subslide"
    }
   },
   "outputs": [],
   "source": [
    "#calculate the variance\n",
    "def variance(values,mean):\n",
    "    return sum([(x-mean)**2 for x in values])"
   ]
  },
  {
   "cell_type": "code",
   "execution_count": 27,
   "metadata": {
    "collapsed": false,
    "slideshow": {
     "slide_type": "skip"
    }
   },
   "outputs": [
    {
     "name": "stdout",
     "output_type": "stream",
     "text": [
      "x stats: mean=3.000  varaince=10.000\n",
      "y stats: mean=2.800 variance=8.800\n"
     ]
    }
   ],
   "source": [
    "dataset = [[1, 1], [2, 3], [4, 3], [3, 2], [5, 5]]\n",
    "x=[row[0] for row in dataset]\n",
    "y=[row[1] for row in dataset]\n",
    "\n",
    "mean_x,mean_y=mean(x),mean(y)\n",
    "var_x,var_y=variance(x,mean_x),variance(y,mean_y)\n",
    "\n",
    "print('x stats: mean=%.3f  varaince=%.3f' %(mean_x,var_x))\n",
    "print ('y stats: mean=%.3f variance=%.3f' %(mean_y,var_y))"
   ]
  },
  {
   "cell_type": "code",
   "execution_count": 28,
   "metadata": {
    "collapsed": true,
    "slideshow": {
     "slide_type": "subslide"
    }
   },
   "outputs": [],
   "source": [
    "# calculate covariance\n",
    "def covariance(x,mean_x,y,mean_y):\n",
    "    covar=0.0\n",
    "    for i in range(len(x)):\n",
    "        covar+=(x[i]-mean_x)*(y[i]-mean_y)\n",
    "    return covar"
   ]
  },
  {
   "cell_type": "code",
   "execution_count": 29,
   "metadata": {
    "collapsed": false,
    "slideshow": {
     "slide_type": "slide"
    }
   },
   "outputs": [
    {
     "name": "stdout",
     "output_type": "stream",
     "text": [
      "Covariance:  8.000\n"
     ]
    }
   ],
   "source": [
    "covar= covariance(x,mean_x,y,mean_y)\n",
    "print('Covariance:  %.3f' %(covar))"
   ]
  },
  {
   "cell_type": "code",
   "execution_count": 35,
   "metadata": {
    "collapsed": true,
    "slideshow": {
     "slide_type": "slide"
    }
   },
   "outputs": [],
   "source": [
    "#calculating coefficients\n",
    "def coefficients(dataset):\n",
    "    x=[row[0] for row in dataset]\n",
    "    y=[row[1] for row in dataset]\n",
    "    \n",
    "    x_mean,y_mean=mean(x),mean(y)\n",
    "    b1=covariance(x,x_mean,y,y_mean)/ variance(x,x_mean)\n",
    "    b0=y_mean-b1*x_mean\n",
    "    \n",
    "    return [b0,b1]"
   ]
  },
  {
   "cell_type": "code",
   "execution_count": 36,
   "metadata": {
    "collapsed": false,
    "slideshow": {
     "slide_type": "slide"
    }
   },
   "outputs": [
    {
     "name": "stdout",
     "output_type": "stream",
     "text": [
      "Coefficients: B0= 0.400 B1=0.800\n"
     ]
    }
   ],
   "source": [
    "dataset=[[1,1],[2,3],[4,3],[3,2],[5,5]]\n",
    "b0,b1=coefficients(dataset)\n",
    "\n",
    "print('Coefficients: B0= %.3f B1=%.3f' %(b0,b1))"
   ]
  },
  {
   "cell_type": "code",
   "execution_count": 39,
   "metadata": {
    "collapsed": false,
    "slideshow": {
     "slide_type": "slide"
    }
   },
   "outputs": [],
   "source": [
    "# simple linear regression\n",
    "\n",
    "def simple_linear_regression(train,test):\n",
    "    predictions=list()\n",
    "    b0,b1=coefficients(train)\n",
    "    for row in test:\n",
    "        yhat=b0+b1*row[0]\n",
    "        predictions.append(yhat)\n",
    "        \n",
    "    return predictions"
   ]
  },
  {
   "cell_type": "code",
   "execution_count": 40,
   "metadata": {
    "collapsed": false,
    "scrolled": true,
    "slideshow": {
     "slide_type": "slide"
    }
   },
   "outputs": [
    {
     "name": "stdout",
     "output_type": "stream",
     "text": [
      "[1.1999999999999995, 1.9999999999999996, 3.5999999999999996, 2.8, 4.3999999999999995]\n",
      "RMSE: 0.693\n"
     ]
    }
   ],
   "source": [
    "dataset = [[1,1],[2,3],[4,3],[3,2],[5,5]]\n",
    "rmse = evaluate_algorithm(dataset,simple_linear_regression)\n",
    "\n",
    "print ('RMSE: %.3f' %(rmse))"
   ]
  },
  {
   "cell_type": "code",
   "execution_count": null,
   "metadata": {
    "collapsed": true
   },
   "outputs": [],
   "source": []
  }
 ],
 "metadata": {
  "celltoolbar": "Raw Cell Format",
  "kernelspec": {
   "display_name": "Python 2",
   "language": "python",
   "name": "python2"
  },
  "language_info": {
   "codemirror_mode": {
    "name": "ipython",
    "version": 2
   },
   "file_extension": ".py",
   "mimetype": "text/x-python",
   "name": "python",
   "nbconvert_exporter": "python",
   "pygments_lexer": "ipython2",
   "version": "2.7.12"
  }
 },
 "nbformat": 4,
 "nbformat_minor": 0
}
